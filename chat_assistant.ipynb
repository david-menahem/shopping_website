{
 "cells": [
  {
   "cell_type": "code",
   "execution_count": 1,
   "id": "91f7d9ae-c156-400e-b75f-b5ff8cc2bb56",
   "metadata": {},
   "outputs": [],
   "source": [
    "import os\n",
    "import openai\n",
    "\n",
    "from openai import OpenAI"
   ]
  },
  {
   "cell_type": "code",
   "execution_count": 2,
   "id": "7cfedfa7-c776-466f-8ab9-152db9339d11",
   "metadata": {},
   "outputs": [],
   "source": [
    "os.environ[\"OPENAI_API_KEY\"] = \""
   ]
  },
  {
   "cell_type": "code",
   "execution_count": 3,
   "id": "da651f0f-533d-4f91-89cc-4becf6790d9c",
   "metadata": {},
   "outputs": [],
   "source": [
    "client = OpenAI()"
   ]
  },
  {
   "cell_type": "code",
   "execution_count": null,
   "id": "81d12b52-07ee-4142-a4b7-f7900aefc869",
   "metadata": {},
   "outputs": [
    {
     "name": "stdin",
     "output_type": "stream",
     "text": [
      "User:  my name is david\n"
     ]
    },
    {
     "name": "stdout",
     "output_type": "stream",
     "text": [
      "Assistant :Nice to meet you, David! How can I assist you today?\n"
     ]
    },
    {
     "name": "stdin",
     "output_type": "stream",
     "text": [
      "User:  what is my name?\n"
     ]
    },
    {
     "name": "stdout",
     "output_type": "stream",
     "text": [
      "Assistant :Your name is David.\n"
     ]
    }
   ],
   "source": [
    "messages_buffer = [{\"role\": \"system\", \"content\": \"You are a helpful assistant\"}]\n",
    "\n",
    "while True:\n",
    "    user_input = input(\"User: \")\n",
    "\n",
    "    if user_input.lower() == \"q\":\n",
    "        break\n",
    "    messages_buffer.append({\"role\": \"user\", \"content\": user_input})\n",
    "    response = client.chat.completions.create(\n",
    "        model = \"gpt-3.5-turbo\",\n",
    "        messages = messages_buffer,\n",
    "        max_tokens = 300,\n",
    "        temperature=0.5\n",
    "    )\n",
    "    \n",
    "    messages_buffer.append({\"role\": \"assistant\", \"content\": response.choices[0].message.content})\n",
    "    \n",
    "    print(\"Assistant :\" + response.choices[0].message.content)"
   ]
  }
 ],
 "metadata": {
  "kernelspec": {
   "display_name": "Python 3 (ipykernel)",
   "language": "python",
   "name": "python3"
  },
  "language_info": {
   "codemirror_mode": {
    "name": "ipython",
    "version": 3
   },
   "file_extension": ".py",
   "mimetype": "text/x-python",
   "name": "python",
   "nbconvert_exporter": "python",
   "pygments_lexer": "ipython3",
   "version": "3.12.4"
  }
 },
 "nbformat": 4,
 "nbformat_minor": 5
}
